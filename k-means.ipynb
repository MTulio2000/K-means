{
 "metadata": {
  "language_info": {
   "codemirror_mode": {
    "name": "ipython",
    "version": 3
   },
   "file_extension": ".py",
   "mimetype": "text/x-python",
   "name": "python",
   "nbconvert_exporter": "python",
   "pygments_lexer": "ipython3",
   "version": "3.8.5-final"
  },
  "orig_nbformat": 2,
  "kernelspec": {
   "name": "python38564bitdd50329a5d0b47d698b9095595418ddd",
   "display_name": "Python 3.8.5 64-bit",
   "language": "python"
  }
 },
 "nbformat": 4,
 "nbformat_minor": 2,
 "cells": [
  {
   "cell_type": "code",
   "execution_count": 1,
   "metadata": {},
   "outputs": [],
   "source": [
    "import pandas as pd\n",
    "import numpy as np\n",
    "import random\n",
    "import matplotlib.pyplot as plt\n",
    "from sklearn.model_selection import train_test_split"
   ]
  },
  {
   "cell_type": "code",
   "execution_count": 2,
   "metadata": {},
   "outputs": [],
   "source": [
    "class KMeans:\n",
    "    def __init__(self,k,n_data):\n",
    "        self.__centroids = np.random.rand(k,n_data)\n",
    "        self.__centroidsList = [[] for _ in range(k)]\n",
    "        self.k,self.n_data = k,n_data\n",
    "\n",
    "    def __distance(self,data,centroid):\n",
    "        dist = 0\n",
    "        for i,j in zip(data,centroid):\n",
    "            dist += np.abs(i-j)\n",
    "        return dist\n",
    "    \n",
    "    def __getIndex(self,data):\n",
    "        index = -1\n",
    "        minDist = np.inf\n",
    "        for i in range(self.k):\n",
    "            dist = self.__distance(data,self.__centroids[i])\n",
    "            if(dist<minDist):\n",
    "                minDist = dist\n",
    "                index = i\n",
    "        return index\n",
    "    \n",
    "    def classify(self,data):    \n",
    "        self.__centroidsList[self.__getIndex(data)].append(data)\n",
    "        self.__updateCentroids()\n",
    "        self.__changeData()\n",
    "        return self.__getIndex(data)\n",
    "\n",
    "    def __updateCentroids(self):\n",
    "        for i in range(self.k):\n",
    "            itens = self.__centroidsList[i]\n",
    "            if len(itens):\n",
    "                self.__centroids[i] = np.zeros(self.n_data)\n",
    "                for data in itens:\n",
    "                    self.__centroids[i] += data/len(itens)\n",
    "    \n",
    "    def __changeData(self):\n",
    "        for i in range(self.k):\n",
    "            n = 0\n",
    "            for data in self.__centroidsList[i]:\n",
    "                index = self.__getIndex(data)\n",
    "                if index != i:\n",
    "                    del self.__centroidsList[i][n]\n",
    "                    self.__centroidsList[index].append(data)\n",
    "                else:\n",
    "                    n+=1\n",
    "        self.__updateCentroids()\n",
    "\n",
    "    def addData(self, data):\n",
    "        add = True\n",
    "        for x in data:\n",
    "            add = True\n",
    "            for j in range(self.k):\n",
    "                if not len(self.__centroidsList[j]):\n",
    "                    self.__centroids[j] = x\n",
    "                    self.__centroidsList[j].append(x)\n",
    "                    add = False\n",
    "            if add:\n",
    "                self.classify(x)\n",
    "                \n",
    "            "
   ]
  },
  {
   "cell_type": "code",
   "execution_count": 3,
   "metadata": {},
   "outputs": [],
   "source": [
    "cluster = KMeans(2,12)"
   ]
  },
  {
   "cell_type": "code",
   "execution_count": 4,
   "metadata": {},
   "outputs": [],
   "source": [
    "data = pd.read_csv(\"wine_dataset.csv\")\n",
    "data[\"style\"]=data[\"style\"].replace('red',0)\n",
    "data[\"style\"]=data[\"style\"].replace('white',1)\n",
    "y = data[\"style\"]\n",
    "x = data.drop(\"style\", axis = 1)\n",
    "x_in,x_test,y_in,y_test = train_test_split(x,y,test_size = 0.01)"
   ]
  },
  {
   "cell_type": "code",
   "execution_count": 5,
   "metadata": {},
   "outputs": [
    {
     "output_type": "stream",
     "name": "stdout",
     "text": [
      "A\nA\n"
     ]
    },
    {
     "output_type": "error",
     "ename": "ValueError",
     "evalue": "The truth value of an array with more than one element is ambiguous. Use a.any() or a.all()",
     "traceback": [
      "\u001b[0;31m---------------------------------------------------------------------------\u001b[0m",
      "\u001b[0;31mValueError\u001b[0m                                Traceback (most recent call last)",
      "\u001b[0;32m<ipython-input-5-5d9f26b3190c>\u001b[0m in \u001b[0;36m<module>\u001b[0;34m\u001b[0m\n\u001b[0;32m----> 1\u001b[0;31m \u001b[0mcluster\u001b[0m\u001b[0;34m.\u001b[0m\u001b[0maddData\u001b[0m\u001b[0;34m(\u001b[0m\u001b[0mx\u001b[0m\u001b[0;34m.\u001b[0m\u001b[0mvalues\u001b[0m\u001b[0;34m)\u001b[0m\u001b[0;34m\u001b[0m\u001b[0;34m\u001b[0m\u001b[0m\n\u001b[0m",
      "\u001b[0;32m<ipython-input-2-f59bfaab75a7>\u001b[0m in \u001b[0;36maddData\u001b[0;34m(self, data)\u001b[0m\n\u001b[1;32m     58\u001b[0m             \u001b[0mprint\u001b[0m\u001b[0;34m(\u001b[0m\u001b[0;34m\"A\"\u001b[0m\u001b[0;34m)\u001b[0m\u001b[0;34m\u001b[0m\u001b[0;34m\u001b[0m\u001b[0m\n\u001b[1;32m     59\u001b[0m             \u001b[0;32mif\u001b[0m \u001b[0madd\u001b[0m\u001b[0;34m:\u001b[0m\u001b[0;34m\u001b[0m\u001b[0;34m\u001b[0m\u001b[0m\n\u001b[0;32m---> 60\u001b[0;31m                 \u001b[0mself\u001b[0m\u001b[0;34m.\u001b[0m\u001b[0mclassify\u001b[0m\u001b[0;34m(\u001b[0m\u001b[0mdata\u001b[0m\u001b[0;34m)\u001b[0m\u001b[0;34m\u001b[0m\u001b[0;34m\u001b[0m\u001b[0m\n\u001b[0m\u001b[1;32m     61\u001b[0m \u001b[0;34m\u001b[0m\u001b[0m\n\u001b[1;32m     62\u001b[0m \u001b[0;34m\u001b[0m\u001b[0m\n",
      "\u001b[0;32m<ipython-input-2-f59bfaab75a7>\u001b[0m in \u001b[0;36mclassify\u001b[0;34m(self, data)\u001b[0m\n\u001b[1;32m     22\u001b[0m \u001b[0;34m\u001b[0m\u001b[0m\n\u001b[1;32m     23\u001b[0m     \u001b[0;32mdef\u001b[0m \u001b[0mclassify\u001b[0m\u001b[0;34m(\u001b[0m\u001b[0mself\u001b[0m\u001b[0;34m,\u001b[0m\u001b[0mdata\u001b[0m\u001b[0;34m)\u001b[0m\u001b[0;34m:\u001b[0m\u001b[0;34m\u001b[0m\u001b[0;34m\u001b[0m\u001b[0m\n\u001b[0;32m---> 24\u001b[0;31m         \u001b[0mself\u001b[0m\u001b[0;34m.\u001b[0m\u001b[0m__centroidsList\u001b[0m\u001b[0;34m[\u001b[0m\u001b[0mself\u001b[0m\u001b[0;34m.\u001b[0m\u001b[0m__getIndex\u001b[0m\u001b[0;34m(\u001b[0m\u001b[0mdata\u001b[0m\u001b[0;34m)\u001b[0m\u001b[0;34m]\u001b[0m\u001b[0;34m.\u001b[0m\u001b[0mappend\u001b[0m\u001b[0;34m(\u001b[0m\u001b[0mdata\u001b[0m\u001b[0;34m)\u001b[0m\u001b[0;34m\u001b[0m\u001b[0;34m\u001b[0m\u001b[0m\n\u001b[0m\u001b[1;32m     25\u001b[0m         \u001b[0mself\u001b[0m\u001b[0;34m.\u001b[0m\u001b[0m__updateCentroids\u001b[0m\u001b[0;34m(\u001b[0m\u001b[0;34m)\u001b[0m\u001b[0;34m\u001b[0m\u001b[0;34m\u001b[0m\u001b[0m\n\u001b[1;32m     26\u001b[0m         \u001b[0mself\u001b[0m\u001b[0;34m.\u001b[0m\u001b[0m__changeData\u001b[0m\u001b[0;34m(\u001b[0m\u001b[0;34m)\u001b[0m\u001b[0;34m\u001b[0m\u001b[0;34m\u001b[0m\u001b[0m\n",
      "\u001b[0;32m<ipython-input-2-f59bfaab75a7>\u001b[0m in \u001b[0;36m__getIndex\u001b[0;34m(self, data)\u001b[0m\n\u001b[1;32m     16\u001b[0m         \u001b[0;32mfor\u001b[0m \u001b[0mi\u001b[0m \u001b[0;32min\u001b[0m \u001b[0mrange\u001b[0m\u001b[0;34m(\u001b[0m\u001b[0mself\u001b[0m\u001b[0;34m.\u001b[0m\u001b[0mk\u001b[0m\u001b[0;34m)\u001b[0m\u001b[0;34m:\u001b[0m\u001b[0;34m\u001b[0m\u001b[0;34m\u001b[0m\u001b[0m\n\u001b[1;32m     17\u001b[0m             \u001b[0mdist\u001b[0m \u001b[0;34m=\u001b[0m \u001b[0mself\u001b[0m\u001b[0;34m.\u001b[0m\u001b[0m__distance\u001b[0m\u001b[0;34m(\u001b[0m\u001b[0mdata\u001b[0m\u001b[0;34m,\u001b[0m\u001b[0mself\u001b[0m\u001b[0;34m.\u001b[0m\u001b[0m__centroids\u001b[0m\u001b[0;34m[\u001b[0m\u001b[0mi\u001b[0m\u001b[0;34m]\u001b[0m\u001b[0;34m)\u001b[0m\u001b[0;34m\u001b[0m\u001b[0;34m\u001b[0m\u001b[0m\n\u001b[0;32m---> 18\u001b[0;31m             \u001b[0;32mif\u001b[0m\u001b[0;34m(\u001b[0m\u001b[0mdist\u001b[0m\u001b[0;34m<\u001b[0m\u001b[0mminDist\u001b[0m\u001b[0;34m)\u001b[0m\u001b[0;34m:\u001b[0m\u001b[0;34m\u001b[0m\u001b[0;34m\u001b[0m\u001b[0m\n\u001b[0m\u001b[1;32m     19\u001b[0m                 \u001b[0mminDist\u001b[0m \u001b[0;34m=\u001b[0m \u001b[0mdist\u001b[0m\u001b[0;34m\u001b[0m\u001b[0;34m\u001b[0m\u001b[0m\n\u001b[1;32m     20\u001b[0m                 \u001b[0mindex\u001b[0m \u001b[0;34m=\u001b[0m \u001b[0mi\u001b[0m\u001b[0;34m\u001b[0m\u001b[0;34m\u001b[0m\u001b[0m\n",
      "\u001b[0;31mValueError\u001b[0m: The truth value of an array with more than one element is ambiguous. Use a.any() or a.all()"
     ]
    }
   ],
   "source": [
    "cluster.addData(x.values)"
   ]
  },
  {
   "cell_type": "code",
   "execution_count": null,
   "metadata": {},
   "outputs": [],
   "source": [
    "out = [\"red\",\"white\"]\n",
    "x = [\n",
    "    np.array([6,0.21,0.38,0.8,0.02,22,98,0.98941,3.26,0.32,11.8,6]),#white\n",
    "    np.array([12.7,0.6,0.49,2.8,0.075,5,19,0.9994,3.14,0.57,11.4,5]),#red\n",
    "    np.array([7.7,0.44,0.24,11.2,0.031,41,167,0.9948,3.12,0.43,11.3,7]),#white\n",
    "    np.array([5.5,0.29,0.3,1.1,0.022,20,110,0.98869,3.34,0.38,12.8,7]),#white\n",
    "    np.array([8.8,0.44,0.49,2.8,0.083,18,111,0.9982,3.3,0.6,9.5,5]),#red\n",
    "    np.array([12.3,0.27,0.49,3.1,0.079,28,46,0.9993,3.2,0.8,10.2,6]),#red\n",
    "    np.array([6.7,0.21,0.32,5.4,0.047,29,140,0.995,3.39,0.46,9.7,6]),#white\n",
    "    np.array([7.1,0.6,0,1.8,0.074,16,34,0.9972,3.47,0.7,9.9,6]),#red\n",
    "    np.array([7.3,0.21,0.49,1.8,0.038,44,152,0.9912,3.32,0.44,12.6,7])#white\n",
    "]\n",
    "for i in x:\n",
    "    print(out[cluster.classify(i)])"
   ]
  },
  {
   "cell_type": "code",
   "execution_count": null,
   "metadata": {},
   "outputs": [],
   "source": []
  }
 ]
}